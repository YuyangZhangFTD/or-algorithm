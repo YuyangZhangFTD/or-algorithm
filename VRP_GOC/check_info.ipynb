{
 "cells": [
  {
   "cell_type": "code",
   "execution_count": null,
   "metadata": {},
   "outputs": [],
   "source": [
    "import pandas as pd                                                    \n",
    "import util                                                            \n",
    "\n",
    "node = pd.read_csv(\"input/node.csv\")\n",
    "# node = node.sample(n=100, random_state=0)\n",
    "node_ids = node[\"ID\"].values.tolist()\n",
    " \n",
    "weight = pd.Series(node[\"weight\"].values, index=node[\"ID\"].values).to_dict()\n",
    "volume = pd.Series(node[\"volume\"].values, index=node[\"ID\"].values).to_dict()\n",
    "first = pd.Series(node[\"first\"].values, index=node[\"ID\"].values).to_dict()\n",
    "last = pd.Series(node[\"last\"].values, index=node[\"ID\"].values).to_dict()\n",
    "\n",
    "dt = pd.read_csv(\"input/input_distance-time.txt\")\n",
    "from_to_node = list(zip(dt[\"from_node\"].values, dt[\"to_node\"].values))\n",
    "ds = pd.Series(dt[\"distance\"].values, index=from_to_node).to_dict()\n",
    "tm = pd.Series(dt[\"spend_tm\"].values, index=from_to_node).to_dict()\n",
    "del dt, from_to_node"
   ]
  }
 ],
 "metadata": {},
 "nbformat": 4,
 "nbformat_minor": 0
}
