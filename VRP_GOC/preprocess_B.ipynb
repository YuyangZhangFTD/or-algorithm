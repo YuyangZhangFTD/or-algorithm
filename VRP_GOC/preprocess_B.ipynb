{
 "cells": [
  {
   "cell_type": "code",
   "execution_count": 1,
   "metadata": {},
   "outputs": [],
   "source": [
    "import pandas as pd"
   ]
  },
  {
   "cell_type": "code",
   "execution_count": 2,
   "metadata": {},
   "outputs": [],
   "source": [
    "dt5 = pd.read_csv(\"input_B/inputdistancetime_5_1201.txt\")\n",
    "dt4 = pd.read_csv(\"input_B/inputdistancetime_4_1301.txt\")\n",
    "dt3 = pd.read_csv(\"input_B/inputdistancetime_3_1401.txt\")\n",
    "dt2 = pd.read_csv(\"input_B/inputdistancetime_2_1501.txt\")\n",
    "dt1 = pd.read_csv(\"input_B/inputdistancetime_1_1601.txt\")"
   ]
  },
  {
   "cell_type": "code",
   "execution_count": 3,
   "metadata": {},
   "outputs": [],
   "source": [
    "n1 = pd.read_csv(\"input_B/inputnode_1_1601.csv\", sep=\"\\t\")\n",
    "n2 = pd.read_csv(\"input_B/inputnode_2_1501.csv\", sep=\"\\t\")\n",
    "n3 = pd.read_csv(\"input_B/inputnode_3_1401.csv\", sep=\"\\t\")\n",
    "n4 = pd.read_csv(\"input_B/inputnode_4_1301.csv\", sep=\"\\t\")\n",
    "n5 = pd.read_csv(\"input_B/inputnode_5_1201.csv\", sep=\"\\t\")"
   ]
  },
  {
   "cell_type": "code",
   "execution_count": 4,
   "metadata": {},
   "outputs": [],
   "source": [
    "n1.columns = [x.strip() for x in n1.columns]\n",
    "n2.columns = [x.strip() for x in n2.columns]\n",
    "n3.columns = [x.strip() for x in n3.columns]\n",
    "n4.columns = [x.strip() for x in n4.columns]\n",
    "n5.columns = [x.strip() for x in n5.columns]"
   ]
  },
  {
   "cell_type": "code",
   "execution_count": 19,
   "metadata": {},
   "outputs": [],
   "source": [
    "import vrp\n",
    "from collections import namedtuple\n",
    "\n",
    "def read_data(number):\n",
    "\n",
    "    if number == 1:\n",
    "        dt = pd.read_csv(\"input_B/inputdistancetime_1_1601.txt\")\n",
    "        node = pd.read_csv(\"input_B/inputnode_1_1601.csv\", sep=\"\\t\")\n",
    "    elif number == 2:\n",
    "        dt = pd.read_csv(\"input_B/inputdistancetime_2_1501.txt\")\n",
    "        node = pd.read_csv(\"input_B/inputnode_2_1501.csv\", sep=\"\\t\")\n",
    "    elif number == 3:\n",
    "        dt = pd.read_csv(\"input_B/inputdistancetime_3_1401.txt\")\n",
    "        node = pd.read_csv(\"input_B/inputnode_3_1401.csv\", sep=\"\\t\")\n",
    "    elif number == 4:\n",
    "        dt = pd.read_csv(\"input_B/inputdistancetime_4_1301.txt\")\n",
    "        node = pd.read_csv(\"input_B/inputnode_4_1301.csv\", sep=\"\\t\")\n",
    "    elif number == 5:\n",
    "        dt = pd.read_csv(\"input_B/inputdistancetime_5_1201.txt\")\n",
    "        node = pd.read_csv(\"input_B/inputnode_5_1201.csv\", sep=\"\\t\")\n",
    "    else:\n",
    "        return None\n",
    "\n",
    "    from_to_node = list(zip(dt[\"from_node\"].values, dt[\"to_node\"].values))\n",
    "    ds = SeqDict({\n",
    "        ((k1,), (k2,)): v\n",
    "        for (k1, k2), v in pd.Series(dt[\"distance\"].values, index=from_to_node).items()\n",
    "    })\n",
    "    tm = SeqDict({\n",
    "        ((k1,), (k2,)): v\n",
    "        for (k1, k2), v in pd.Series(dt[\"spend_tm\"].values, index=from_to_node).items()\n",
    "    })\n",
    "\n",
    "    node.columns = [\n",
    "        \"ID\",\n",
    "        \"type\",\n",
    "        \"lng\",\n",
    "        \"lat\",\n",
    "        \"weight\",\n",
    "        \"volume\",\n",
    "        \"first\",\n",
    "        \"last\"\n",
    "    ]\n",
    "\n",
    "    node[\"first\"] = node.loc[:, \"first\"].apply(lambda x: time_transformer(x))\n",
    "    node[\"last\"] = node.loc[:, \"last\"].apply(lambda x: time_transformer(x))\n",
    "\n",
    "    delivery = node[node.type == 2]\n",
    "    pickup = node[node.type == 3]\n",
    "    charge = node[node.type == 4]\n",
    "    del node, dt\n",
    "    return ds, tm, delivery, pickup, charge\n",
    "\n",
    "class SeqDict(dict):\n",
    "\n",
    "    def __getitem__(self, item):\n",
    "        if len(item) != 2:\n",
    "            return dict.__getitem__(self, item)\n",
    "        else:\n",
    "            a, b = item\n",
    "            try:\n",
    "                return dict.__getitem__(self, (a[-1:], b[:1]))\n",
    "            except TypeError:\n",
    "                raise BaseException(\"SeqDict TypeError in: \" + str(item))\n",
    "\n",
    "\n",
    "SeqTuple = namedtuple(\n",
    "    \"Seq\",\n",
    "    [\n",
    "        \"vehicle_type\",\n",
    "        \"volume\",\n",
    "        \"weight\",\n",
    "        \"total_distance\",\n",
    "        \"total_time\",\n",
    "        \"time_len\",\n",
    "        \"es\",\n",
    "        \"ls\",\n",
    "        \"ef\",\n",
    "        \"lf\",\n",
    "        \"wait\",\n",
    "        \"charge_cnt\",\n",
    "        \"cost\"\n",
    "    ]\n",
    ")\n",
    "\n",
    "\n",
    "class Seq(SeqTuple):\n",
    "\n",
    "    def __add__(self, other):\n",
    "        if isinstance(other, Seq):\n",
    "            pass\n",
    "        else:\n",
    "            raise BaseException(\"Seq class can't be added with \" + str(other))"
   ]
  },
  {
   "cell_type": "code",
   "execution_count": null,
   "metadata": {},
   "outputs": [],
   "source": [
    "ds, tm, delivery, pickup, charge = read_data(1)"
   ]
  },
  {
   "cell_type": "code",
   "execution_count": null,
   "metadata": {},
   "outputs": [],
   "source": [
    "ds"
   ]
  },
  {
   "cell_type": "code",
   "execution_count": null,
   "metadata": {},
   "outputs": [],
   "source": []
  }
 ],
 "metadata": {
  "kernelspec": {
   "display_name": "Python 3",
   "language": "python",
   "name": "python3"
  },
  "language_info": {
   "codemirror_mode": {
    "name": "ipython",
    "version": 3
   },
   "file_extension": ".py",
   "mimetype": "text/x-python",
   "name": "python",
   "nbconvert_exporter": "python",
   "pygments_lexer": "ipython3",
   "version": "3.6.6"
  }
 },
 "nbformat": 4,
 "nbformat_minor": 2
}
